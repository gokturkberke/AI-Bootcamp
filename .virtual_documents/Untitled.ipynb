import numpy as np
import matplotlib.pyplot as plt
import seaborn as sns

from sklearn.linear_model import LinearRegression
from sklearn.metrics import mean_squared_error , r2_score


df = sns.load_dataset("diamonds")


df.head()


df.tail()


df.describe().T


sns.scatterplot(x="carat",y="price",data=df,alpha=0.5)
plt.title("Elmas Karat iliskisi")
plt.xlabel("carat")
plt.ylabel("price")
plt.show()


X = df[["carat"]]
y = df[["price"]]


model = LinearRegression()
model.fit(X,y)


y_pred = model.predict(X)


mse = mean_squared_error(y,y_pred)


rmse=np.sqrt(mse)
r2 = r2_score(y,y_pred)


print(f"Mean Squared Error: {mse:.2f}")
print(f"Root Mean Squared Error: {rmse:.2f}")
print(f"R2 Squared Error: {r2:.2f}")


new_diamond = [[1.5]] #1.5 caratlik elmas
tahmini_fiyat = model.predict(new_diamond)[0]
print(f"1.5 karat elmas icin tahmini fiyat : {tahmini_fiyat[0]:.2f} $")








import pandas as pd
import seaborn as sns
import numpy as np
import matplotlib.pyplot as plt

from sklearn.model_selection import train_test_split,cross_validate
from sklearn.preprocessing import RobustScaler
from sklearn.linear_model import LogisticRegression
from sklearn.metrics import accuracy_score,roc_auc_score,confusion_matrix


def outlier_threshold(df,col,q1=0.05,q3=0.95):
    q1_val = df[col].quantile(q1)
    q3_val = df[col].quantile(q3)
    iqr = q3_val - q1_val
    low_limit = q1_val - 1.5 *iqr
    upper_limit = q3_val + 1.5 * iqr
    return low_limit,upper_limit


def replace_with_thresholds(df,col):
    low, up = outlier_thresholds(df,col)
    df[col] = np.where(df[col] < low , low , np.where(df[col] > up,up,df[col]))



